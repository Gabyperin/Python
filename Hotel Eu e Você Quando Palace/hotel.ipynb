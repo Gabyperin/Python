{
 "cells": [
  {
   "cell_type": "code",
   "execution_count": null,
   "metadata": {},
   "outputs": [],
   "source": [
    "print(\"Seja bem vindo ao Hotel Eu e Você Quando Palace ⭐⭐⭐⭐⭐\")\n",
    "\n",
    "quantidade_pessoas = int(input(\"Quantas pessoas ficaram hospedadas? \"))\n",
    "hospedes = []\n",
    "\n",
    "for pessoas in range(quantidade_pessoas):\n",
    "    nome = str(input(\"Qual seu nome:\"))\n",
    "    cpf = int(input(\"Qual seu CPF? \"))\n",
    "    maior_de_idade = int(input(\"Para continuar o cadastro me informe sua idade: \"))\n",
    "    if maior_de_idade >= 18:\n",
    "        print(f\"OK,{nome}, idade suficiente para realizar a reserva, Obrigada :) \")\n",
    "        if maior_de_idade >= 90:\n",
    "                brinquedo = str(input(\"Gostaria de provar nosso brinquedo de 25cm via bluetooth? (sim/nao)\"))\n",
    "                if brinquedo == \"sim\" or \"Sim\":\n",
    "                    print(\"Vamos adorar fazer de você nossa cobaia para futuros velhinhos na mesma condição que você :D\")\n",
    "                else:\n",
    "                    print(\"Então broxa\")\n",
    "    else:\n",
    "        print(f\"Vaza daqui {nome}, vai procurar leite em outro lugar.\")\n",
    "    cadastro = [f\"Nome:{nome}, CPF: {cpf}, {maior_de_idade} anos de idade\"]\n",
    "    hospedes.append(cadastro)\n",
    "\n",
    "print(hospedes)\n",
    "print(f\"Divitam-se pombinhos\")"
   ]
  }
 ],
 "metadata": {
  "language_info": {
   "name": "python"
  }
 },
 "nbformat": 4,
 "nbformat_minor": 2
}
