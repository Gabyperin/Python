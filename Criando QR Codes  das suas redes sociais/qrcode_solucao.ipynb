{
 "cells": [
  {
   "cell_type": "markdown",
   "id": "9d4ec1f7-92e3-4764-8b47-318a52fc62c4",
   "metadata": {},
   "source": [
    "# Criando QR Code"
   ]
  },
  {
   "cell_type": "markdown",
   "id": "6a649f54-8f0f-46dd-933a-e934d67e51b0",
   "metadata": {},
   "source": [
    "Para instalar:\n",
    "\n",
    "### pip install qrcode\n",
    "### pip install Pillow\n"
   ]
  },
  {
   "cell_type": "markdown",
   "id": "fbd74860-92b2-4efe-96cb-1bd4f701ba30",
   "metadata": {},
   "source": [
    "## QR Code simples"
   ]
  },
  {
   "cell_type": "code",
   "execution_count": 6,
   "id": "fd119601-460f-46af-997f-0cfdb747838a",
   "metadata": {
    "tags": []
   },
   "outputs": [],
   "source": [
    "import qrcode\n",
    "\n",
    "imagem = qrcode.make(\"\") # coloque um like aqui \n",
    "imagem.save(\"qrcode.png\")"
   ]
  },
  {
   "cell_type": "markdown",
   "id": "0df50a17-96db-49b2-bf18-d00f8193ae0e",
   "metadata": {},
   "source": [
    "## QR Code com imagem"
   ]
  },
  {
   "cell_type": "code",
   "execution_count": 7,
   "id": "42e7449e-410c-4dec-8c6b-477953408a2e",
   "metadata": {
    "tags": []
   },
   "outputs": [],
   "source": [
    "import qrcode \n",
    "from qrcode.image.styledpil import StyledPilImage\n",
    "\n",
    "qr = qrcode.QRCode(error_correction=qrcode.constants.ERROR_CORRECT_H)  # para poder adicionar uma imagem\n",
    "qr.add_data(\"\")\n",
    "\n",
    "imagem = qr.make_image(\n",
    "    image_factory=StyledPilImage,\n",
    "    embeded_image_path=\"logo.png\", # coloquer uma imagem em png da sua logotipo\n",
    ")\n",
    "\n",
    "imagem.save(\"qrcode_logo.png\")"
   ]
  },
  {
   "cell_type": "markdown",
   "id": "6bd9dccf-64e7-4dfe-b4cb-f81ef1cd2f9f",
   "metadata": {},
   "source": [
    "## Criando diversos QR Code ao mesmo tempo"
   ]
  },
  {
   "cell_type": "code",
   "execution_count": 8,
   "id": "bf309d81-6d6b-4264-b2f8-2dbac7568bbd",
   "metadata": {
    "tags": []
   },
   "outputs": [],
   "source": [
    "redes_sociais = {\n",
    "    \"Twitter\": \"\", \n",
    "    \"Instagram\": \"\",    ######### preencha esse dicionario com o link das suas redes sociais para gerar os QrCodes\n",
    "    \"GitHub\": \"\",\n",
    "    \"Linkedin\": \"\",\n",
    "}\n",
    "\n",
    "for rede_social, url in redes_sociais.items():\n",
    "    qr = qrcode.QRCode(error_correction=qrcode.constants.ERROR_CORRECT_H)\n",
    "    qr.add_data(url)\n",
    "\n",
    "    imagem = qr.make_image(\n",
    "        image_factory=StyledPilImage,\n",
    "        embeded_image_path=\"logo.png\",\n",
    "    )\n",
    "\n",
    "    imagem.save(f\"sociais_{rede_social}.png\")"
   ]
  }
 ],
 "metadata": {
  "kernelspec": {
   "display_name": "Python 3",
   "language": "python",
   "name": "python3"
  },
  "language_info": {
   "codemirror_mode": {
    "name": "ipython",
    "version": 3
   },
   "file_extension": ".py",
   "mimetype": "text/x-python",
   "name": "python",
   "nbconvert_exporter": "python",
   "pygments_lexer": "ipython3",
   "version": "3.12.undefined"
  }
 },
 "nbformat": 4,
 "nbformat_minor": 5
}
