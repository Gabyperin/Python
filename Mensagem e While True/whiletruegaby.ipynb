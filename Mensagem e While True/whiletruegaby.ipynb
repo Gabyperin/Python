{
 "cells": [
  {
   "cell_type": "code",
   "execution_count": 1,
   "metadata": {},
   "outputs": [
    {
     "name": "stdout",
     "output_type": "stream",
     "text": [
      "Defaulting to user installation because normal site-packages is not writeable\n",
      "Requirement already satisfied: win10toast in c:\\users\\usuário\\appdata\\local\\packages\\pythonsoftwarefoundation.python.3.12_qbz5n2kfra8p0\\localcache\\local-packages\\python312\\site-packages (0.9)\n",
      "Requirement already satisfied: pypiwin32 in c:\\users\\usuário\\appdata\\local\\packages\\pythonsoftwarefoundation.python.3.12_qbz5n2kfra8p0\\localcache\\local-packages\\python312\\site-packages (from win10toast) (223)\n",
      "Requirement already satisfied: setuptools in c:\\users\\usuário\\appdata\\local\\packages\\pythonsoftwarefoundation.python.3.12_qbz5n2kfra8p0\\localcache\\local-packages\\python312\\site-packages (from win10toast) (69.0.2)\n",
      "Requirement already satisfied: pywin32>=223 in c:\\users\\usuário\\appdata\\local\\packages\\pythonsoftwarefoundation.python.3.12_qbz5n2kfra8p0\\localcache\\local-packages\\python312\\site-packages (from pypiwin32->win10toast) (306)\n",
      "Defaulting to user installation because normal site-packages is not writeable\n"
     ]
    },
    {
     "name": "stderr",
     "output_type": "stream",
     "text": [
      "ERROR: Could not find a version that satisfies the requirement time (from versions: none)\n",
      "ERROR: No matching distribution found for time\n"
     ]
    }
   ],
   "source": [
    "!pip install win10toast\n",
    "!pip install time"
   ]
  },
  {
   "cell_type": "code",
   "execution_count": null,
   "metadata": {},
   "outputs": [],
   "source": [
    "from win10toast import ToastNotifier as tn\n",
    "\n",
    "toaster = tn()\n",
    "t = \"Raphael A.\"\n",
    "m = \"Já cuidou dos gados? Agora, cuida do seu fazendeiro\"\n",
    "toaster.show_toast(t,m,duration=60)"
   ]
  },
  {
   "cell_type": "code",
   "execution_count": 1,
   "metadata": {},
   "outputs": [
    {
     "name": "stderr",
     "output_type": "stream",
     "text": [
      "WNDPROC return value cannot be converted to LRESULT\n"
     ]
    },
    {
     "ename": "TypeError",
     "evalue": "WPARAM is simple, so must be an int object (got NoneType)",
     "output_type": "error",
     "traceback": [
      "\u001b[1;31m---------------------------------------------------------------------------\u001b[0m",
      "\u001b[1;31mTypeError\u001b[0m                                 Traceback (most recent call last)",
      "\u001b[1;31mTypeError\u001b[0m: WPARAM is simple, so must be an int object (got NoneType)"
     ]
    },
    {
     "name": "stdout",
     "output_type": "stream",
     "text": [
      "Quem é a gadinho da Gaby?? Quem éé??? Simm, é você!!!!\n"
     ]
    },
    {
     "name": "stderr",
     "output_type": "stream",
     "text": [
      "WNDPROC return value cannot be converted to LRESULT\n"
     ]
    },
    {
     "ename": "TypeError",
     "evalue": "WPARAM is simple, so must be an int object (got NoneType)",
     "output_type": "error",
     "traceback": [
      "\u001b[1;31m---------------------------------------------------------------------------\u001b[0m",
      "\u001b[1;31mTypeError\u001b[0m                                 Traceback (most recent call last)",
      "\u001b[1;31mTypeError\u001b[0m: WPARAM is simple, so must be an int object (got NoneType)"
     ]
    },
    {
     "name": "stdout",
     "output_type": "stream",
     "text": [
      "Quem é a gadinho da Gaby?? Quem éé??? Simm, é você!!!!\n"
     ]
    },
    {
     "name": "stderr",
     "output_type": "stream",
     "text": [
      "WNDPROC return value cannot be converted to LRESULT\n"
     ]
    },
    {
     "ename": "TypeError",
     "evalue": "WPARAM is simple, so must be an int object (got NoneType)",
     "output_type": "error",
     "traceback": [
      "\u001b[1;31m---------------------------------------------------------------------------\u001b[0m",
      "\u001b[1;31mTypeError\u001b[0m                                 Traceback (most recent call last)",
      "\u001b[1;31mTypeError\u001b[0m: WPARAM is simple, so must be an int object (got NoneType)"
     ]
    },
    {
     "name": "stdout",
     "output_type": "stream",
     "text": [
      "Quem é a gadinho da Gaby?? Quem éé??? Simm, é você!!!!\n"
     ]
    },
    {
     "ename": "KeyboardInterrupt",
     "evalue": "",
     "output_type": "error",
     "traceback": [
      "\u001b[1;31m---------------------------------------------------------------------------\u001b[0m",
      "\u001b[1;31mKeyboardInterrupt\u001b[0m                         Traceback (most recent call last)",
      "Cell \u001b[1;32mIn[1], line 7\u001b[0m\n\u001b[0;32m      5\u001b[0m a \u001b[38;5;241m=\u001b[39m \u001b[38;5;124m\"\u001b[39m\u001b[38;5;124mQuem é a gadinho da Gaby?? Quem éé???\u001b[39m\u001b[38;5;124m\"\u001b[39m\n\u001b[0;32m      6\u001b[0m b \u001b[38;5;241m=\u001b[39m \u001b[38;5;124m\"\u001b[39m\u001b[38;5;124mSimm, é você!!!!\u001b[39m\u001b[38;5;124m\"\u001b[39m\n\u001b[1;32m----> 7\u001b[0m \u001b[43mg\u001b[49m\u001b[38;5;241;43m.\u001b[39;49m\u001b[43mshow_toast\u001b[49m\u001b[43m(\u001b[49m\u001b[43ma\u001b[49m\u001b[43m,\u001b[49m\u001b[43m \u001b[49m\u001b[43mb\u001b[49m\u001b[43m,\u001b[49m\u001b[43m \u001b[49m\u001b[43mduration\u001b[49m\u001b[38;5;241;43m=\u001b[39;49m\u001b[38;5;241;43m10\u001b[39;49m\u001b[43m)\u001b[49m\n\u001b[0;32m      8\u001b[0m \u001b[38;5;28mprint\u001b[39m(a, b)\n",
      "File \u001b[1;32m~\\AppData\\Local\\Packages\\PythonSoftwareFoundation.Python.3.12_qbz5n2kfra8p0\\LocalCache\\local-packages\\Python312\\site-packages\\win10toast\\__init__.py:127\u001b[0m, in \u001b[0;36mToastNotifier.show_toast\u001b[1;34m(self, title, msg, icon_path, duration, threaded)\u001b[0m\n\u001b[0;32m    119\u001b[0m \u001b[38;5;250m\u001b[39m\u001b[38;5;124;03m\"\"\"Notification settings.\u001b[39;00m\n\u001b[0;32m    120\u001b[0m \n\u001b[0;32m    121\u001b[0m \u001b[38;5;124;03m:title: notification title\u001b[39;00m\n\u001b[1;32m   (...)\u001b[0m\n\u001b[0;32m    124\u001b[0m \u001b[38;5;124;03m:duration: delay in seconds before notification self-destruction\u001b[39;00m\n\u001b[0;32m    125\u001b[0m \u001b[38;5;124;03m\"\"\"\u001b[39;00m\n\u001b[0;32m    126\u001b[0m \u001b[38;5;28;01mif\u001b[39;00m \u001b[38;5;129;01mnot\u001b[39;00m threaded:\n\u001b[1;32m--> 127\u001b[0m     \u001b[38;5;28;43mself\u001b[39;49m\u001b[38;5;241;43m.\u001b[39;49m\u001b[43m_show_toast\u001b[49m\u001b[43m(\u001b[49m\u001b[43mtitle\u001b[49m\u001b[43m,\u001b[49m\u001b[43m \u001b[49m\u001b[43mmsg\u001b[49m\u001b[43m,\u001b[49m\u001b[43m \u001b[49m\u001b[43micon_path\u001b[49m\u001b[43m,\u001b[49m\u001b[43m \u001b[49m\u001b[43mduration\u001b[49m\u001b[43m)\u001b[49m\n\u001b[0;32m    128\u001b[0m \u001b[38;5;28;01melse\u001b[39;00m:\n\u001b[0;32m    129\u001b[0m     \u001b[38;5;28;01mif\u001b[39;00m \u001b[38;5;28mself\u001b[39m\u001b[38;5;241m.\u001b[39mnotification_active():\n\u001b[0;32m    130\u001b[0m         \u001b[38;5;66;03m# We have an active notification, let is finish so we don't spam them\u001b[39;00m\n",
      "File \u001b[1;32m~\\AppData\\Local\\Packages\\PythonSoftwareFoundation.Python.3.12_qbz5n2kfra8p0\\LocalCache\\local-packages\\Python312\\site-packages\\win10toast\\__init__.py:112\u001b[0m, in \u001b[0;36mToastNotifier._show_toast\u001b[1;34m(self, title, msg, icon_path, duration)\u001b[0m\n\u001b[0;32m    107\u001b[0m Shell_NotifyIcon(NIM_MODIFY, (\u001b[38;5;28mself\u001b[39m\u001b[38;5;241m.\u001b[39mhwnd, \u001b[38;5;241m0\u001b[39m, NIF_INFO,\n\u001b[0;32m    108\u001b[0m                               WM_USER \u001b[38;5;241m+\u001b[39m \u001b[38;5;241m20\u001b[39m,\n\u001b[0;32m    109\u001b[0m                               hicon, \u001b[38;5;124m\"\u001b[39m\u001b[38;5;124mBalloon Tooltip\u001b[39m\u001b[38;5;124m\"\u001b[39m, msg, \u001b[38;5;241m200\u001b[39m,\n\u001b[0;32m    110\u001b[0m                               title))\n\u001b[0;32m    111\u001b[0m \u001b[38;5;66;03m# take a rest then destroy\u001b[39;00m\n\u001b[1;32m--> 112\u001b[0m \u001b[43msleep\u001b[49m\u001b[43m(\u001b[49m\u001b[43mduration\u001b[49m\u001b[43m)\u001b[49m\n\u001b[0;32m    113\u001b[0m DestroyWindow(\u001b[38;5;28mself\u001b[39m\u001b[38;5;241m.\u001b[39mhwnd)\n\u001b[0;32m    114\u001b[0m UnregisterClass(\u001b[38;5;28mself\u001b[39m\u001b[38;5;241m.\u001b[39mwc\u001b[38;5;241m.\u001b[39mlpszClassName, \u001b[38;5;28;01mNone\u001b[39;00m)\n",
      "\u001b[1;31mKeyboardInterrupt\u001b[0m: "
     ]
    }
   ],
   "source": [
    "from win10toast import ToastNotifier as tn\n",
    "\n",
    "while True:\n",
    "    g = tn()\n",
    "    a = \"Quem é a gadinho da Gaby?? Quem éé???\"\n",
    "    b = \"Simm, é você!!!!\"\n",
    "    g.show_toast(a, b, duration=10)\n",
    "    print(a, b)"
   ]
  }
 ],
 "metadata": {
  "kernelspec": {
   "display_name": "Python 3",
   "language": "python",
   "name": "python3"
  },
  "language_info": {
   "codemirror_mode": {
    "name": "ipython",
    "version": 3
   },
   "file_extension": ".py",
   "mimetype": "text/x-python",
   "name": "python",
   "nbconvert_exporter": "python",
   "pygments_lexer": "ipython3",
   "version": "3.12.2"
  }
 },
 "nbformat": 4,
 "nbformat_minor": 2
}
